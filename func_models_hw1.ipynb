{
  "nbformat": 4,
  "nbformat_minor": 0,
  "metadata": {
    "colab": {
      "name": "func_models_hw1.ipynb",
      "provenance": [],
      "authorship_tag": "ABX9TyOK7zff68WO1RiY0VrBuYDl",
      "include_colab_link": true
    },
    "kernelspec": {
      "name": "python3",
      "display_name": "Python 3"
    },
    "language_info": {
      "name": "python"
    }
  },
  "cells": [
    {
      "cell_type": "markdown",
      "metadata": {
        "id": "view-in-github",
        "colab_type": "text"
      },
      "source": [
        "<a href=\"https://colab.research.google.com/github/kategavrishina/func_models/blob/main/func_models_hw1.ipynb\" target=\"_parent\"><img src=\"https://colab.research.google.com/assets/colab-badge.svg\" alt=\"Open In Colab\"/></a>"
      ]
    },
    {
      "cell_type": "markdown",
      "metadata": {
        "id": "Tjp9FJQgF9OZ"
      },
      "source": [
        "[2 балла] Выберите экспрессив и покажите, что это действительно экспрессив. Какой профиль Вы можете предположить для приведенного экспрессива -- U-образный, J-образный, перевернутое U или что-то другое? Какие примеры подкрепляют Ваше предположение?\n",
        "\n",
        "[2 балла] Создайте корпус с контекстами, содержащими Ваш экспрессив, и с разметкой, например, от 1 до 5 звездочек. Разметка по экспрессивности может быть и другой, но хорошо иметь не меньше трёх уровней разметки. Ваш корпус может быть подкорпусом существующего датасета.\n",
        "\n",
        "[2 балла] Создайте профиль экспрессива по формуле из работы Constant et al. 2009.\n",
        "\n",
        "[1 балл] Подберите для данных регрессионную модель. Прокомментируйте.\n",
        "\n",
        "[3 балла] Какой профиль получился -- U-образный, J-образный, перевернутое U или что-то другое? Проиллюстрируйте распределение примерами. Подтвердилась ли изначальная гипотеза? Есть ли среди корпусных данных неожиданные и интересные случаи?"
      ]
    },
    {
      "cell_type": "markdown",
      "metadata": {
        "id": "shwuFHwCM4fo"
      },
      "source": [
        "**Задание 1.**\n",
        "\n",
        "####Экспрессив: *freaking*\n",
        "\n",
        "**Почему это экспрессив?**\n",
        "1. Проблемы с переводом. На русский обычно переводится как \"чертовски\" или \"до\\*\\*анный\", в английском, как я поняла, возникло по аналогии с *fu**ing* и *frigging*, которые значат примерно то же. Буквального перевода у слова, можно сказать, нет, по крайней мере такого, который бы подходил к контексту. + В словарях не представлен перевод, а только описана функция (to emphasize what is being said, or to express anger/used as an intensive).\n",
        "2. Эффект усиляется при повторении (не подряд, но в целом в предложении): \n",
        "\n",
        "> With a really quite commendable effort of will, Fred restrains his impulse to utter some exasperated imprecation and snatch the *freaking* mouse from his *freaking* partner to *freaking* click on Fast *Freaking* Forward …\n",
        "\n",
        "3. Если сравнивать высказывания с экспрессивом и без, первые выражают гораздо большую интенсивность и спектр эмоций: \n",
        "\n",
        "> I said she was freaking insane. **VS** I said she was insane.\n",
        "\n",
        "4. В нейтральных контекстах можно заменить на *very*, которое эмоционально не окрашено.\n",
        "\n",
        "**Какой профиль?**\n",
        "\n",
        "Предполагаю, что профиль будет U-образный, так как этот экспрессив может употребляться как с положительной оценкой (*freaking awesome, freaking good*), так и с отрицательными эмоциями (*freaking starving, freaking hell*). Я сама чаще встречала это слово в положительных контекстах. Кстати в русском языке схожее поведение должно быть у слова \"чертовски\" (чертовски красива vs чертовски голодна).\n",
        "\n",
        "\n"
      ]
    },
    {
      "cell_type": "code",
      "metadata": {
        "id": "V06gw2d93Q5D"
      },
      "source": [
        "import os\n",
        "import json\n",
        "import gzip\n",
        "import pandas as pd\n",
        "from urllib.request import urlopen\n",
        "\n",
        "import matplotlib.pyplot as plt\n",
        "import math\n",
        "\n",
        "import random\n",
        "import numpy as np\n",
        "from tqdm import tqdm_notebook as tqdm\n",
        "from collections import defaultdict\n",
        "from nltk.tokenize import word_tokenize"
      ],
      "execution_count": 91,
      "outputs": []
    },
    {
      "cell_type": "markdown",
      "metadata": {
        "id": "sfBd1kUZReJZ"
      },
      "source": [
        "**Задание 2**\n",
        "\n",
        "Корпус Amazon Review Data, раздел \"Фильмы и ТВ\"\n",
        "\n",
        "https://nijianmo.github.io/amazon/index.html\n",
        "\n",
        "Оценки от 1 до 5\n",
        "\n",
        "**Подкорпус:** все отзывы, в которых есть хотя бы одно вхождение экспрессива *freaking*."
      ]
    },
    {
      "cell_type": "code",
      "metadata": {
        "id": "NtUSjRE37tsZ",
        "colab": {
          "base_uri": "https://localhost:8080/"
        },
        "outputId": "a6a40ee5-38f4-4a4b-d012-20a8a33f9937"
      },
      "source": [
        "!wget http://deepyeti.ucsd.edu/jianmo/amazon/categoryFilesSmall/Movies_and_TV_5.json.gz"
      ],
      "execution_count": 2,
      "outputs": [
        {
          "output_type": "stream",
          "name": "stdout",
          "text": [
            "--2021-10-10 16:42:58--  http://deepyeti.ucsd.edu/jianmo/amazon/categoryFilesSmall/Movies_and_TV_5.json.gz\n",
            "Resolving deepyeti.ucsd.edu (deepyeti.ucsd.edu)... 169.228.63.50\n",
            "Connecting to deepyeti.ucsd.edu (deepyeti.ucsd.edu)|169.228.63.50|:80... connected.\n",
            "HTTP request sent, awaiting response... 200 OK\n",
            "Length: 791322468 (755M) [application/octet-stream]\n",
            "Saving to: ‘Movies_and_TV_5.json.gz’\n",
            "\n",
            "Movies_and_TV_5.jso 100%[===================>] 754.66M  42.2MB/s    in 18s     \n",
            "\n",
            "2021-10-10 16:43:16 (40.9 MB/s) - ‘Movies_and_TV_5.json.gz’ saved [791322468/791322468]\n",
            "\n"
          ]
        }
      ]
    },
    {
      "cell_type": "code",
      "metadata": {
        "id": "7igYuRaV4bF7",
        "colab": {
          "base_uri": "https://localhost:8080/"
        },
        "outputId": "274b8739-ed7e-4f18-a2a2-0419f6c8a9be"
      },
      "source": [
        "### load the meta data\n",
        "\n",
        "data = []\n",
        "with gzip.open('Movies_and_TV_5.json.gz') as f:\n",
        "    for l in f:\n",
        "        data.append(json.loads(l.strip()))\n",
        "    \n",
        "# total length of list, this number equals total number of products\n",
        "print(len(data))\n",
        "\n",
        "# first row of the list\n",
        "print(data[0])"
      ],
      "execution_count": 3,
      "outputs": [
        {
          "output_type": "stream",
          "name": "stdout",
          "text": [
            "3410019\n",
            "{'overall': 5.0, 'verified': True, 'reviewTime': '11 9, 2012', 'reviewerID': 'A2M1CU2IRZG0K9', 'asin': '0005089549', 'style': {'Format:': ' VHS Tape'}, 'reviewerName': 'Terri', 'reviewText': \"So sorry I didn't purchase this years ago when it first came out!!  This is very good and entertaining!  We absolutely loved it and anticipate seeing it repeatedly.  We actually wore out the cassette years back, so we also purchased this same product on cd.  Best purchase we made out of all!  Would purchase on dvd if we could find one.\", 'summary': 'Amazing!', 'unixReviewTime': 1352419200}\n"
          ]
        }
      ]
    },
    {
      "cell_type": "code",
      "metadata": {
        "id": "knpHP22w4scK",
        "colab": {
          "base_uri": "https://localhost:8080/"
        },
        "outputId": "f8908d0c-b15d-42fc-f327-ad9ebbe56fd1"
      },
      "source": [
        "# convert list into pandas dataframe\n",
        "\n",
        "df = pd.DataFrame.from_dict(data)\n",
        "\n",
        "print(len(df))"
      ],
      "execution_count": 4,
      "outputs": [
        {
          "output_type": "stream",
          "name": "stdout",
          "text": [
            "3410019\n"
          ]
        }
      ]
    },
    {
      "cell_type": "code",
      "metadata": {
        "colab": {
          "base_uri": "https://localhost:8080/",
          "height": 292
        },
        "id": "yE1mwOirrUN6",
        "outputId": "9f4e0620-7352-4316-fe3c-54cc34fad595"
      },
      "source": [
        "df.head()"
      ],
      "execution_count": 5,
      "outputs": [
        {
          "output_type": "execute_result",
          "data": {
            "text/html": [
              "<div>\n",
              "<style scoped>\n",
              "    .dataframe tbody tr th:only-of-type {\n",
              "        vertical-align: middle;\n",
              "    }\n",
              "\n",
              "    .dataframe tbody tr th {\n",
              "        vertical-align: top;\n",
              "    }\n",
              "\n",
              "    .dataframe thead th {\n",
              "        text-align: right;\n",
              "    }\n",
              "</style>\n",
              "<table border=\"1\" class=\"dataframe\">\n",
              "  <thead>\n",
              "    <tr style=\"text-align: right;\">\n",
              "      <th></th>\n",
              "      <th>overall</th>\n",
              "      <th>verified</th>\n",
              "      <th>reviewTime</th>\n",
              "      <th>reviewerID</th>\n",
              "      <th>asin</th>\n",
              "      <th>style</th>\n",
              "      <th>reviewerName</th>\n",
              "      <th>reviewText</th>\n",
              "      <th>summary</th>\n",
              "      <th>unixReviewTime</th>\n",
              "      <th>vote</th>\n",
              "      <th>image</th>\n",
              "    </tr>\n",
              "  </thead>\n",
              "  <tbody>\n",
              "    <tr>\n",
              "      <th>0</th>\n",
              "      <td>5.0</td>\n",
              "      <td>True</td>\n",
              "      <td>11 9, 2012</td>\n",
              "      <td>A2M1CU2IRZG0K9</td>\n",
              "      <td>0005089549</td>\n",
              "      <td>{'Format:': ' VHS Tape'}</td>\n",
              "      <td>Terri</td>\n",
              "      <td>So sorry I didn't purchase this years ago when...</td>\n",
              "      <td>Amazing!</td>\n",
              "      <td>1352419200</td>\n",
              "      <td>NaN</td>\n",
              "      <td>NaN</td>\n",
              "    </tr>\n",
              "    <tr>\n",
              "      <th>1</th>\n",
              "      <td>5.0</td>\n",
              "      <td>True</td>\n",
              "      <td>12 30, 2011</td>\n",
              "      <td>AFTUJYISOFHY6</td>\n",
              "      <td>0005089549</td>\n",
              "      <td>{'Format:': ' VHS Tape'}</td>\n",
              "      <td>Melissa D. Abercrombie</td>\n",
              "      <td>Believe me when I tell you that you will recei...</td>\n",
              "      <td>Great Gospel VHS of the Cathedrals!</td>\n",
              "      <td>1325203200</td>\n",
              "      <td>NaN</td>\n",
              "      <td>NaN</td>\n",
              "    </tr>\n",
              "    <tr>\n",
              "      <th>2</th>\n",
              "      <td>5.0</td>\n",
              "      <td>True</td>\n",
              "      <td>04 21, 2005</td>\n",
              "      <td>A3JVF9Y53BEOGC</td>\n",
              "      <td>000503860X</td>\n",
              "      <td>{'Format:': ' DVD'}</td>\n",
              "      <td>Anthony Thompson</td>\n",
              "      <td>I have seen X live many times, both in the ear...</td>\n",
              "      <td>A great document of a great band</td>\n",
              "      <td>1114041600</td>\n",
              "      <td>11</td>\n",
              "      <td>NaN</td>\n",
              "    </tr>\n",
              "    <tr>\n",
              "      <th>3</th>\n",
              "      <td>5.0</td>\n",
              "      <td>True</td>\n",
              "      <td>04 6, 2005</td>\n",
              "      <td>A12VPEOEZS1KTC</td>\n",
              "      <td>000503860X</td>\n",
              "      <td>{'Format:': ' DVD'}</td>\n",
              "      <td>JadeRain</td>\n",
              "      <td>I was so excited for this!  Finally, a live co...</td>\n",
              "      <td>YES!!  X LIVE!!</td>\n",
              "      <td>1112745600</td>\n",
              "      <td>5</td>\n",
              "      <td>NaN</td>\n",
              "    </tr>\n",
              "    <tr>\n",
              "      <th>4</th>\n",
              "      <td>5.0</td>\n",
              "      <td>True</td>\n",
              "      <td>12 3, 2010</td>\n",
              "      <td>ATLZNVLYKP9AZ</td>\n",
              "      <td>000503860X</td>\n",
              "      <td>{'Format:': ' DVD'}</td>\n",
              "      <td>T. Fisher</td>\n",
              "      <td>X is one of the best punk bands ever. I don't ...</td>\n",
              "      <td>X have still got it</td>\n",
              "      <td>1291334400</td>\n",
              "      <td>5</td>\n",
              "      <td>NaN</td>\n",
              "    </tr>\n",
              "  </tbody>\n",
              "</table>\n",
              "</div>"
            ],
            "text/plain": [
              "   overall  verified   reviewTime  ... unixReviewTime vote image\n",
              "0      5.0      True   11 9, 2012  ...     1352419200  NaN   NaN\n",
              "1      5.0      True  12 30, 2011  ...     1325203200  NaN   NaN\n",
              "2      5.0      True  04 21, 2005  ...     1114041600   11   NaN\n",
              "3      5.0      True   04 6, 2005  ...     1112745600    5   NaN\n",
              "4      5.0      True   12 3, 2010  ...     1291334400    5   NaN\n",
              "\n",
              "[5 rows x 12 columns]"
            ]
          },
          "metadata": {},
          "execution_count": 5
        }
      ]
    },
    {
      "cell_type": "code",
      "metadata": {
        "id": "LuO10MT8rPZ4"
      },
      "source": [
        "# оставляем только важные для нас признаки\n",
        "df = df[['overall', 'reviewText']]"
      ],
      "execution_count": 6,
      "outputs": []
    },
    {
      "cell_type": "code",
      "metadata": {
        "id": "tfNrIiiMrtmT"
      },
      "source": [
        "df.dropna(inplace=True)"
      ],
      "execution_count": 7,
      "outputs": []
    },
    {
      "cell_type": "code",
      "metadata": {
        "id": "ool47_qBCtAR"
      },
      "source": [
        "word = \"freaking\""
      ],
      "execution_count": 82,
      "outputs": []
    },
    {
      "cell_type": "code",
      "metadata": {
        "id": "Xeuh8PiMwJV6"
      },
      "source": [
        "count = 0\n",
        "for text in df.reviewText:\n",
        "    if word in text:\n",
        "        count += 1"
      ],
      "execution_count": 83,
      "outputs": []
    },
    {
      "cell_type": "code",
      "metadata": {
        "colab": {
          "base_uri": "https://localhost:8080/"
        },
        "id": "WqwiEk4mxhkf",
        "outputId": "08e11c74-1905-4451-de46-4d301fb350d6"
      },
      "source": [
        "count # количество отзывов с искомым экспрессивом"
      ],
      "execution_count": 84,
      "outputs": [
        {
          "output_type": "execute_result",
          "data": {
            "text/plain": [
              "1889"
            ]
          },
          "metadata": {},
          "execution_count": 84
        }
      ]
    },
    {
      "cell_type": "code",
      "metadata": {
        "id": "pUd4a4me9hGZ"
      },
      "source": [
        "# создание подкорпуса\n",
        "little_corpus = df[df['reviewText'].str.contains(word)].reset_index(drop=True)"
      ],
      "execution_count": 88,
      "outputs": []
    },
    {
      "cell_type": "code",
      "metadata": {
        "colab": {
          "base_uri": "https://localhost:8080/",
          "height": 206
        },
        "id": "yquUWhd2R5BU",
        "outputId": "8277ef19-7adc-4f56-a76f-6d3b066f1c9e"
      },
      "source": [
        "little_corpus.head()"
      ],
      "execution_count": 89,
      "outputs": [
        {
          "output_type": "execute_result",
          "data": {
            "text/html": [
              "<div>\n",
              "<style scoped>\n",
              "    .dataframe tbody tr th:only-of-type {\n",
              "        vertical-align: middle;\n",
              "    }\n",
              "\n",
              "    .dataframe tbody tr th {\n",
              "        vertical-align: top;\n",
              "    }\n",
              "\n",
              "    .dataframe thead th {\n",
              "        text-align: right;\n",
              "    }\n",
              "</style>\n",
              "<table border=\"1\" class=\"dataframe\">\n",
              "  <thead>\n",
              "    <tr style=\"text-align: right;\">\n",
              "      <th></th>\n",
              "      <th>overall</th>\n",
              "      <th>reviewText</th>\n",
              "    </tr>\n",
              "  </thead>\n",
              "  <tbody>\n",
              "    <tr>\n",
              "      <th>0</th>\n",
              "      <td>5.0</td>\n",
              "      <td>No close captions! No subtilies! pissing me of...</td>\n",
              "    </tr>\n",
              "    <tr>\n",
              "      <th>1</th>\n",
              "      <td>4.0</td>\n",
              "      <td>IDLE HANDS is a movie that I remember always b...</td>\n",
              "    </tr>\n",
              "    <tr>\n",
              "      <th>2</th>\n",
              "      <td>4.0</td>\n",
              "      <td>Wow! I can't recall the last time I saw so man...</td>\n",
              "    </tr>\n",
              "    <tr>\n",
              "      <th>3</th>\n",
              "      <td>2.0</td>\n",
              "      <td>Saw Resident Evil 2. Without going into FULL d...</td>\n",
              "    </tr>\n",
              "    <tr>\n",
              "      <th>4</th>\n",
              "      <td>5.0</td>\n",
              "      <td>the visuals rock. it is very scary. the music ...</td>\n",
              "    </tr>\n",
              "  </tbody>\n",
              "</table>\n",
              "</div>"
            ],
            "text/plain": [
              "   overall                                         reviewText\n",
              "0      5.0  No close captions! No subtilies! pissing me of...\n",
              "1      4.0  IDLE HANDS is a movie that I remember always b...\n",
              "2      4.0  Wow! I can't recall the last time I saw so man...\n",
              "3      2.0  Saw Resident Evil 2. Without going into FULL d...\n",
              "4      5.0  the visuals rock. it is very scary. the music ..."
            ]
          },
          "metadata": {},
          "execution_count": 89
        }
      ]
    },
    {
      "cell_type": "code",
      "metadata": {
        "id": "ob0Kec8pwyTe"
      },
      "source": [
        "little_corpus.to_csv(\"freaking_corpus.csv\")"
      ],
      "execution_count": 90,
      "outputs": []
    },
    {
      "cell_type": "markdown",
      "metadata": {
        "id": "FjM-JIcVxvMV"
      },
      "source": [
        "**Задание 3**\n",
        "\n",
        "Формула (для каждой оценки X):\n",
        "\n",
        "y = ln(количество вхождений экспрессива в корпусе / (количество слов в корпусе длиной, равной длине экспрессива -- количество вхождений экспрессива в корпусе))\n",
        "\n"
      ]
    },
    {
      "cell_type": "code",
      "metadata": {
        "id": "pedfKYm1rvHm"
      },
      "source": [
        "c = {5: [0, 0], 4: [0, 0], 3: [0, 0], 2: [0, 0], 1: [0, 0]}"
      ],
      "execution_count": 50,
      "outputs": []
    },
    {
      "cell_type": "code",
      "metadata": {
        "id": "Ucb4j1vvFhQC"
      },
      "source": [
        "len_word = len(word)"
      ],
      "execution_count": 51,
      "outputs": []
    },
    {
      "cell_type": "code",
      "metadata": {
        "colab": {
          "base_uri": "https://localhost:8080/"
        },
        "id": "SQbQIdyTG0JX",
        "outputId": "e4d7fbd7-5b7f-4de4-a2cb-625973a35090"
      },
      "source": [
        "import nltk\n",
        "nltk.download('punkt')"
      ],
      "execution_count": 52,
      "outputs": [
        {
          "output_type": "stream",
          "name": "stdout",
          "text": [
            "[nltk_data] Downloading package punkt to /root/nltk_data...\n",
            "[nltk_data]   Package punkt is already up-to-date!\n"
          ]
        },
        {
          "output_type": "execute_result",
          "data": {
            "text/plain": [
              "True"
            ]
          },
          "metadata": {},
          "execution_count": 52
        }
      ]
    },
    {
      "cell_type": "code",
      "metadata": {
        "id": "eHBTyYcD7sEq"
      },
      "source": [
        "for key in c.keys():\n",
        "    data = little_corpus[little_corpus[\"overall\"] == key]\n",
        "    all_words = 0\n",
        "    exp_words = 0\n",
        "    for text in data.reviewText:\n",
        "        tokens = word_tokenize(text)\n",
        "        words = [w for w in tokens if w.isalpha()]\n",
        "        for w in words:\n",
        "            if len(w) == len_word:\n",
        "                if w == word:\n",
        "                    exp_words += 1\n",
        "                else:\n",
        "                    all_words += 1\n",
        "    c[int(key)] = [exp_words, all_words]"
      ],
      "execution_count": 53,
      "outputs": []
    },
    {
      "cell_type": "code",
      "metadata": {
        "colab": {
          "base_uri": "https://localhost:8080/"
        },
        "id": "t84h9zJ68l5q",
        "outputId": "c0bf2e3f-0e77-400a-a907-c7e367f5eed8"
      },
      "source": [
        "c"
      ],
      "execution_count": 99,
      "outputs": [
        {
          "output_type": "execute_result",
          "data": {
            "text/plain": [
              "{1: [2257, 109684],\n",
              " 2: [2955, 140340],\n",
              " 3: [5679, 270580],\n",
              " 4: [12276, 497269],\n",
              " 5: [23712, 854654]}"
            ]
          },
          "metadata": {},
          "execution_count": 99
        }
      ]
    },
    {
      "cell_type": "code",
      "metadata": {
        "id": "FjMl9qA_G4no"
      },
      "source": [
        "import math"
      ],
      "execution_count": 55,
      "outputs": []
    },
    {
      "cell_type": "code",
      "metadata": {
        "id": "nQjKmMJpHC18"
      },
      "source": [
        "data_dict = {}\n",
        "for key in c.keys():\n",
        "    data_dict[key] = math.log(c[key][0] / (c[key][1] - c[key][0]))"
      ],
      "execution_count": 56,
      "outputs": []
    },
    {
      "cell_type": "markdown",
      "metadata": {
        "id": "0n_hLTlszjfl"
      },
      "source": [
        "**Задание 4**\n",
        "\n",
        "Регрессионная модель потребовалась квадратичная, так как профиль экспрессива U-образный - частота вхождений увеличивается в отзывах с оценкой 1 и 5 (в полярных контекстах). Линейная регрессия, как видно на графике, не подходит."
      ]
    },
    {
      "cell_type": "code",
      "metadata": {
        "colab": {
          "base_uri": "https://localhost:8080/",
          "height": 268
        },
        "id": "NVMnbmjNJl3V",
        "outputId": "56af1e99-4778-4e1b-f185-373e6f01daca"
      },
      "source": [
        "x = list(data_dict.keys())\n",
        "y = list(data_dict.values())\n",
        "# значения переменных\n",
        "plt.scatter(x, y)\n",
        "\n",
        "# квадратичная регрессия\n",
        "mymodel = np.poly1d(np.polyfit(x, y, 2))\n",
        "myline = np.linspace(1, 5)\n",
        "\n",
        "plt.plot(myline, mymodel(myline))\n",
        "\n",
        "# линейная регрессия\n",
        "coef = np.polyfit(x,y,1)\n",
        "poly1d_fn = np.poly1d(coef) \n",
        "\n",
        "plt.plot(x,y, 'yo', x, poly1d_fn(x), '--k')\n",
        "plt.show()"
      ],
      "execution_count": 66,
      "outputs": [
        {
          "output_type": "display_data",
          "data": {
            "image/png": "[encoded data removed]",
            "text/plain": [
              "<Figure size 432x288 with 1 Axes>"
            ]
          },
          "metadata": {
            "needs_background": "light"
          }
        }
      ]
    },
    {
      "cell_type": "markdown",
      "metadata": {
        "id": "coUMEfYRz4qp"
      },
      "source": [
        "**Задание 5**\n",
        "\n",
        "Профиль экспрессива U-образный, гипотеза подтвердилась. Даже, можно сказать, подтвердился мой опыт, связанный с тем, что я раньше встречала только положительные контексты с рассматриваемым словом - частота вхождений в положительных отзывах выше, чем в отрицательных.\n",
        "\n"
      ]
    },
    {
      "cell_type": "markdown",
      "metadata": {
        "id": "e05eoi3a6n9x"
      },
      "source": [
        "Примеры для всех классов. Можно заметить, что довольно часто экспрессив относится не к оценке \"продукта\" (фильма), а к героям, сюжету или эмоциям автора. Кроме того, встречается выражение \"freaking out\" (фразовый глагол \"психовать\"), которое могло бы испортить эксперимент, но оно встречается во всех пяти разных рейтингах, так что будем считать, что оно не помешало исследованию, так как мы смотрим не на абсолютные числа, а на относительные соотношения."
      ]
    },
    {
      "cell_type": "code",
      "metadata": {
        "colab": {
          "base_uri": "https://localhost:8080/"
        },
        "id": "QPfFjiqi5GeH",
        "outputId": "a4d5acdf-7890-4a90-adba-656dc52ca131"
      },
      "source": [
        "from termcolor import colored\n",
        "print(colored('hello', 'red'), colored('world', 'green'))\n",
        "print(colored(\"hello red world\", 'red'))"
      ],
      "execution_count": 106,
      "outputs": [
        {
          "output_type": "stream",
          "name": "stdout",
          "text": [
            "\u001b[31mhello\u001b[0m \u001b[32mworld\u001b[0m\n",
            "\u001b[31mhello red world\u001b[0m\n"
          ]
        }
      ]
    },
    {
      "cell_type": "code",
      "metadata": {
        "colab": {
          "base_uri": "https://localhost:8080/"
        },
        "id": "WgPw1LAX0lP1",
        "outputId": "1af55bf0-faa8-4f2e-c631-0c6a826dc682"
      },
      "source": [
        "for key in c:\n",
        "    print(colored(f\"\\nОценка {key}\", \"green\"))\n",
        "    texts = little_corpus[little_corpus['overall'] == key]['reviewText'].sample(5)\n",
        "    for text in texts:\n",
        "        text = text.split(word)\n",
        "        print(' '.join([text[0][-100:], colored(word, \"red\"), text[1][:100]]))"
      ],
      "execution_count": 112,
      "outputs": [
        {
          "output_type": "stream",
          "name": "stdout",
          "text": [
            "\u001b[32m\n",
            "Оценка 5\u001b[0m\n",
            "times.  it was better than i expected. i think  everyone should watch it plus michelle rodriguez is  \u001b[31mfreaking\u001b[0m  hott.\n",
            "ren Oates, Loretta Swit and Lara Parker.  If what happened to these people, happened to me.. I'd be  \u001b[31mfreaking\u001b[0m  out.  Like Deliverance, it's go out to the country for a trip... bad things happen.\n",
            "Lara's characte\n",
            " pretty blond girl Jennifer's friend in the end there is a plot twist with her you'll love and it's  \u001b[31mfreaking\u001b[0m  awesome, when I saw it I was like OMG sweet this is epic\n",
            "is equally as amazing, if not better. Sorry creators, for not catching on sooner. Anyway, it'is fan- \u001b[31mfreaking\u001b[0m -tastic. 10 Stars.\n",
            "the Indian warrior who bounty hunter learns the truth\n",
            "\n",
            "5 As they say the crap hits the fan when the  \u001b[31mfreaking\u001b[0m  zombies start popping up. This little gem has minimal blood and gore and the film plot and characte\n",
            "\u001b[32m\n",
            "Оценка 4\u001b[0m\n",
            " forest, at night, is a scary place.  Especially when you're lost!  So, yeah, I can totally imagine  \u001b[31mfreaking\u001b[0m  out if while lost I seemed to be traveling in circles all the while creepy stuff keeps happening ar\n",
            "u can't hear what Flair says.  I like the use of the tables in the match and Flair's chops are just  \u001b[31mfreaking\u001b[0m  killer.  Just put on your surround sound and listen to the sweet sound of Terry Funk's chest being \n",
            " a fan of the show like me, and if you've never seen this show, then after you read this go buy all  \u001b[31mfreaking\u001b[0m  seven yourself and have a good time! This is a great show, but not perfect and at times rather date\n",
            "e camera slowly pans from one part of the house to another - the directors' clever use of the \"that  \u001b[31mfreaking\u001b[0m  thing wasn't there a few seconds ago\" trick will have you looking over your own shoulder the next t\n",
            "ed Mount Weird, I began to see that like Rowan Morrison, I was being led somewhere...somewhere very  \u001b[31mfreaking\u001b[0m  nasty, and all the nastier because the bad guys in this film don't see themselves as bad at all. Qu\n",
            "\u001b[32m\n",
            "Оценка 3\u001b[0m\n",
            "arling Parker Posey (he splits up with her after they have been stuck in an elevator and she starts  \u001b[31mfreaking\u001b[0m  out because she cannot find her Tic Tacs) and Ryan with a splendid Greg Kinnear. It is a feel good \n",
            "inding a home on anyone's top ten list, and it's not easy to look past Keanu being Keanu (with Shia  \u001b[31mfreaking\u001b[0m  LaBeouf crammed in as a throwaway sidekick), but the tone is right and the special effects work is \n",
            "dventure on a lifeboat turns out to be, in fact, a second-by-second struggle for survival against a  \u001b[31mfreaking\u001b[0m  Bengal tiger. In case you're not as familiar as I am with Bengal tigers, just know that they averag\n",
            "!\n",
            "Aside from all that, I thought this movie was absolutely fantastic!\n",
            "The opening on Krypton was so  \u001b[31mfreaking\u001b[0m  awesome! Krypton openings in Superman stories are always very talky, so it was such a pleasant surp\n",
            "e usually excels with these.  All in all, I thought the movie was worth the rental if only for the ' \u001b[31mfreaking\u001b[0m  out' scene.  But I shy from purchasing the DVD for my collection due to it's stupidness.\n",
            "\u001b[32m\n",
            "Оценка 2\u001b[0m\n",
            "s DVD definitely had potential. It has A LOT of helpful information (and the female presenter is so  \u001b[31mfreaking\u001b[0m  hot). However, the background music is so annoying. It detracts from the actual lesson (Wouldn't sa\n",
            "couldnt get past the girls  \u001b[31mfreaking\u001b[0m  out in typical girl fashion, pisses me off. the commercials really captured the best parts TT.TT\n",
            " that, it's not very good at all.  Maybe model train enthusiasts would like it, or people who enjoy  \u001b[31mfreaking\u001b[0m  out young children, but other than that, I can't think of anyone else who would possibly enjoy this\n",
            "ything that doesn't actually matter in the long-run -- we get a whole scene devoted to FDR's mother  \u001b[31mfreaking\u001b[0m  out because she doesn't want her son offering cocktails to his guests. RIVETING. About half of the \n",
            "g.  After they disintegrated the first few people and a dog the kills got boring.  Our heroes start  \u001b[31mfreaking\u001b[0m  out every time a breeze kicks up some debris and then the \"dumb\" really hits the fan.  They meet du\n",
            "\u001b[32m\n",
            "Оценка 1\u001b[0m\n",
            "his movie in. Despite my bad mouthing it, there were a couple of scenes I have to admit were really  \u001b[31mfreaking\u001b[0m  cool. No siry, it's the complete lack of sense. Spoilers follow, so if you care about such things, \n",
            "s a really sad relationship between mother and daughter. But take that hard to watch crap and add a  \u001b[31mfreaking\u001b[0m  corny syfy monster. Ughh.... just awful. But I'm sure they spent a lot of money on it. Its excellen\n",
            " out the window and the villain runs while swinging a mace around her head, do you know how heavy a  \u001b[31mfreaking\u001b[0m  mace is? The kill count is so low and the deaths are not worth sitting through the movie to get to.\n",
            "s the cursed blade isn't Percy's sword as Hollywood would have you believe.  The cused blade is the  \u001b[31mfreaking\u001b[0m  pen that was used to sign off on this pile of crap.  *Climbs down off soap box in a huff*\n",
            "t's time and all that. God dammit was this one of the worst movies I ever sat through. It was soooo  \u001b[31mfreaking\u001b[0m  boring. I can't believe this was only an hour and a half, it seems so long, it just drags on and on\n"
          ]
        }
      ]
    },
    {
      "cell_type": "markdown",
      "metadata": {
        "id": "y9TWuYMG7XzQ"
      },
      "source": [
        "**Мне захотелось из любопытства посмотреть на распределение слова \"very\", которое можно считать нейтральной заменой экспрессива *freaking*.**"
      ]
    },
    {
      "cell_type": "code",
      "metadata": {
        "id": "ZOhj6zOnJxZ9"
      },
      "source": [
        "word = \"very\""
      ],
      "execution_count": 67,
      "outputs": []
    },
    {
      "cell_type": "code",
      "metadata": {
        "id": "zOChD-SMLlbS"
      },
      "source": [
        "count = 0\n",
        "for text in df.reviewText:\n",
        "    if word in text:\n",
        "        count += 1"
      ],
      "execution_count": 68,
      "outputs": []
    },
    {
      "cell_type": "code",
      "metadata": {
        "colab": {
          "base_uri": "https://localhost:8080/"
        },
        "id": "-3oeA3TKLlbS",
        "outputId": "b2ad19c7-fdad-4b08-9021-a03d9808f937"
      },
      "source": [
        "count"
      ],
      "execution_count": 69,
      "outputs": [
        {
          "output_type": "execute_result",
          "data": {
            "text/plain": [
              "726413"
            ]
          },
          "metadata": {},
          "execution_count": 69
        }
      ]
    },
    {
      "cell_type": "code",
      "metadata": {
        "id": "VxqF7EavLlbS"
      },
      "source": [
        "little_corpus = df[df['reviewText'].str.contains(word)].sample(50000).reset_index()"
      ],
      "execution_count": 70,
      "outputs": []
    },
    {
      "cell_type": "code",
      "metadata": {
        "id": "KyDwtg1BLlbS"
      },
      "source": [
        "c = {5: [0, 0], 4: [0, 0], 3: [0, 0], 2: [0, 0], 1: [0, 0]}"
      ],
      "execution_count": 71,
      "outputs": []
    },
    {
      "cell_type": "code",
      "metadata": {
        "id": "a2U6awp6LlbS"
      },
      "source": [
        "len_word = len(word)"
      ],
      "execution_count": 72,
      "outputs": []
    },
    {
      "cell_type": "code",
      "metadata": {
        "colab": {
          "base_uri": "https://localhost:8080/"
        },
        "id": "Ogt7NHUMLlbS",
        "outputId": "ba02cfeb-68aa-4d85-aa32-b56dd22866c8"
      },
      "source": [
        "import nltk\n",
        "nltk.download('punkt')"
      ],
      "execution_count": 73,
      "outputs": [
        {
          "output_type": "stream",
          "name": "stdout",
          "text": [
            "[nltk_data] Downloading package punkt to /root/nltk_data...\n",
            "[nltk_data]   Package punkt is already up-to-date!\n"
          ]
        },
        {
          "output_type": "execute_result",
          "data": {
            "text/plain": [
              "True"
            ]
          },
          "metadata": {},
          "execution_count": 73
        }
      ]
    },
    {
      "cell_type": "code",
      "metadata": {
        "id": "im5tMio1LlbS"
      },
      "source": [
        "for key in c.keys():\n",
        "    data = little_corpus[little_corpus[\"overall\"] == key]\n",
        "    all_words = 0\n",
        "    exp_words = 0\n",
        "    for text in data.reviewText:\n",
        "        tokens = word_tokenize(text)\n",
        "        words = [w for w in tokens if w.isalpha()]\n",
        "        for w in words:\n",
        "            if len(w) == len_word:\n",
        "                if w == word:\n",
        "                    exp_words += 1\n",
        "                else:\n",
        "                    all_words += 1\n",
        "    c[key] = [exp_words, all_words]"
      ],
      "execution_count": 74,
      "outputs": []
    },
    {
      "cell_type": "code",
      "metadata": {
        "colab": {
          "base_uri": "https://localhost:8080/"
        },
        "id": "ghFpAcidLlbT",
        "outputId": "d4cd4121-c1e3-43f7-ef7f-9ddab81eaa26"
      },
      "source": [
        "c"
      ],
      "execution_count": 75,
      "outputs": [
        {
          "output_type": "execute_result",
          "data": {
            "text/plain": [
              "{1: [2257, 109684],\n",
              " 2: [2955, 140340],\n",
              " 3: [5679, 270580],\n",
              " 4: [12276, 497269],\n",
              " 5: [23712, 854654]}"
            ]
          },
          "metadata": {},
          "execution_count": 75
        }
      ]
    },
    {
      "cell_type": "code",
      "metadata": {
        "id": "Uvcq9pxqLlbT"
      },
      "source": [
        "import math"
      ],
      "execution_count": 76,
      "outputs": []
    },
    {
      "cell_type": "code",
      "metadata": {
        "id": "s0eVV1DXLlbT"
      },
      "source": [
        "data_dict = {}\n",
        "for key in c.keys():\n",
        "    data_dict[key] = math.log(c[key][0]/(c[key][1]-c[key][0]))"
      ],
      "execution_count": 77,
      "outputs": []
    },
    {
      "cell_type": "code",
      "metadata": {
        "id": "nJYBNSNrLlbT"
      },
      "source": [
        "import matplotlib.pyplot as plt"
      ],
      "execution_count": 79,
      "outputs": []
    },
    {
      "cell_type": "code",
      "metadata": {
        "colab": {
          "base_uri": "https://localhost:8080/",
          "height": 265
        },
        "id": "FZOZU2nkLlbT",
        "outputId": "dd163285-778b-4eff-f15d-e2641c035351"
      },
      "source": [
        "x = list(data_dict.keys())\n",
        "y = list(data_dict.values())\n",
        "# значения переменных\n",
        "plt.scatter(x, y)\n",
        "\n",
        "# линейная регрессия\n",
        "coef = np.polyfit(x,y,1)\n",
        "poly1d_fn = np.poly1d(coef) \n",
        "\n",
        "plt.plot(x,y, 'yo', x, poly1d_fn(x), '--k')\n",
        "plt.show()"
      ],
      "execution_count": 81,
      "outputs": [
        {
          "output_type": "display_data",
          "data": {
            "image/png": "[encoded data removed]",
            "text/plain": [
              "<Figure size 432x288 with 1 Axes>"
            ]
          },
          "metadata": {
            "needs_background": "light"
          }
        }
      ]
    },
    {
      "cell_type": "markdown",
      "metadata": {
        "id": "xO2Y85Zs7rbo"
      },
      "source": [
        "Я не ожидала, что распределение будет настолько ярким. Видимо, люди, пишущие положительные отзывы, очень эмоциональны и любят преувеличивать свои впечатления + легче всего использовать для усиления выражения своих эмоций простое слово \"very\", чем какую-то более сложную и специфичную лексику.\n",
        "\n",
        "Я думала, что графики всё-таки будут похожи друг на друга (так как very можно использовать и для выражения сильных негативных эмоций), но, похоже, freaking к этому склонно гораздо сильнее."
      ]
    },
    {
      "cell_type": "markdown",
      "metadata": {
        "id": "M7KAyYvD8yiV"
      },
      "source": [
        ""
      ]
    },
    {
      "cell_type": "markdown",
      "metadata": {
        "id": "Je-AOf5p8yml"
      },
      "source": [
        "И ещё, судя по примерам, определение из кембриджского словаря \"used to emphasize what is being said, or to express anger\" не совсем верно, так как встречаются контексты, в которых экспрессив относится к словам, которые по семантике не могут быть \"усилены\" и не связаны со злостью. Например:\n",
        "\n",
        "\n",
        "\n",
        "> As they say the crap hits the fan when the  freaking  zombies start popping up.\n",
        "\n",
        "Я понимаю, что здесь, видимо, усиливается сам факт впечатления от зомби (страх?), но явно не сами герои происходящего. Можно сказать, что им скорее придается лишний устрашающий эффект.\n"
      ]
    },
    {
      "cell_type": "code",
      "metadata": {
        "id": "k_zqybgOLpdr"
      },
      "source": [
        ""
      ],
      "execution_count": 44,
      "outputs": []
    }
  ]
}